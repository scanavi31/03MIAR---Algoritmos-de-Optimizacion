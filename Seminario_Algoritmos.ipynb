{
  "nbformat": 4,
  "nbformat_minor": 0,
  "metadata": {
    "colab": {
      "provenance": [],
      "include_colab_link": true
    },
    "kernelspec": {
      "name": "python3",
      "display_name": "Python 3"
    }
  },
  "cells": [
    {
      "cell_type": "markdown",
      "metadata": {
        "id": "view-in-github",
        "colab_type": "text"
      },
      "source": [
        "<a href=\"https://colab.research.google.com/github/scanavi31/03MIAR---Algoritmos-de-Optimizacion/blob/main/Seminario_Algoritmos.ipynb\" target=\"_parent\"><img src=\"https://colab.research.google.com/assets/colab-badge.svg\" alt=\"Open In Colab\"/></a>"
      ]
    },
    {
      "cell_type": "markdown",
      "metadata": {
        "id": "hVbXYX-RfPWh"
      },
      "source": [
        "# Algoritmos de optimización - Seminario<br>\n",
        "Nombre y Apellidos: Ivan Dario Callejas Sandoval  <br>\n",
        "Url: https://github.com/scanavi31/03MIAR---Algoritmos-de-Optimizacion<br>\n",
        "Problema:\n",
        "\n",
        ">3. Combinar cifras y operaciones\n",
        "\n",
        "Descripción del problema: \n",
        "\n",
        "El problema consiste en analizar el siguiente problema y diseñar un algoritmo que lo resuelva:\n",
        "\n",
        "*   Disponemos de las 9 cifras del 1 al 9 (excluimos el cero) y de los 4 signos básicos de las operaciones fundamentales: suma (+), resta (-), multiplicación (*) y división (/) \n",
        "*   Debemos combinarlos alternativamente sin repetir ninguno de ellos para obtener una cantidad dada. Un ejemplo sería para obtener el 4: 4+2-6/3*1 = 4\n",
        "Debe analizarse el problema para encontrar todos los valores enteros posibles planteando las siguientes cuestiones: \n",
        "    - ¿Qué valor máximo y mínimo se pueden obtener según las condiciones del problema? \n",
        "    - ¿Es posible encontrar todos los valores enteros posibles entre dicho mínimo y máximo? \n",
        "- Nota: Es posible usar la función de python “eval” para evaluar una expresión\n",
        "....\n",
        "\n",
        "(*) La respuesta es obligatoria\n",
        "\n",
        "\n",
        "**¿Qué valor máximo y mínimo se pueden obtener según las condiciones del problema?**\n",
        "\n",
        "Mínimo: el valor mínimo posible que se puede obtener es -70\n",
        "\n",
        "Máximo: el valor máximo posible es 78\n",
        "\n",
        "Se evidencia más adelante del cuaderno en la cual se implementa la función para calcular dichos valores.\n",
        "\n",
        "\n",
        "**¿Es posible encontrar todos los valores enteros posibles entre dicho mínimo y máximo?**\n",
        "\n",
        "Si es posible encontrar los valores enteros posibles mediante técnicas. Resaltando que por fuerza bruta el costo computacional es muy alto. \n",
        "\n",
        "                                        "
      ]
    },
    {
      "cell_type": "markdown",
      "metadata": {
        "id": "3_-exlrTgLd-"
      },
      "source": [
        "(*)¿Cuantas posibilidades hay sin tener en cuenta las restricciones?<br>\n",
        "\n",
        "\n",
        "\n",
        "¿Cuantas posibilidades hay teniendo en cuenta todas las restricciones.\n",
        "\n",
        "\n"
      ]
    },
    {
      "cell_type": "markdown",
      "metadata": {
        "id": "WfCUqJyKhPcw"
      },
      "source": [
        "Respuesta"
      ]
    },
    {
      "cell_type": "markdown",
      "source": [
        "**¿Cuántas posibilidades hay sin tener en cuenta las restricciones?**\n",
        "\n",
        "Sin tener en cuenta las restricciones del problema, se genera todas las posibles combinaciones de 5 números (entre 1 a 9) y 4 signos (+, -, /, *), teniendo así:\n",
        "  - Un total de 9 opciones para cada número hasta llegar a 5 números. Esto nos da un total de\n",
        "\n",
        "              9x9x9x9x9 = 59049 posibles combinaciones.\n",
        "\n",
        "  - Igualmente, para cada una de las combinaciones de 5 números calculadas anteriormente, hay 4 espacios en los que podemos insertar los signos, teniendo así lo siguiente\n",
        "\n",
        "              4^4 = 256 posibles combinaciones de signos. \n",
        "\n",
        "Finalmente, se tendría en total:\n",
        "\n",
        "              59049 * 256 = 15116544 Combinaciones.\n",
        "\n",
        "**¿Cuántas posibilidades hay teniendo en cuenta las restricciones?**\n",
        "\n",
        "Teniendo en cuenta las restricciones del problema, se genera todas las posibles combinaciones de 5 números (entre 1 a 9) y 4 signos (+, -, /,*), teniendo así:\n",
        "\n",
        "  - Un total de 9 opciones para el primer número, 8 opciones para el segundo número y así sucesivamente hasta llegar a 5 números. Esto nos da un total de \n",
        "\n",
        "              9x8x7x6x5 = 15120 posibles combinaciones sin repetir números.\n",
        "\n",
        "-\tIgualmente, para cada una de las combinaciones de 5 números calculadas anteriormente, hay 4 espacios en los que podemos insertar los signos, teniendo así lo siguiente\n",
        "\n",
        "              4x3x2x1 = 24 posibles combinaciones de signos. \n",
        "\n",
        "Finalmente, se tendría en total:\n",
        "\n",
        "              15120 * 24 = 362880 Combinaciones.\n"
      ],
      "metadata": {
        "id": "Gv0ZzY1hsaVz"
      }
    },
    {
      "cell_type": "code",
      "source": [],
      "metadata": {
        "id": "8brr0Q1WwDiV"
      },
      "execution_count": null,
      "outputs": []
    },
    {
      "cell_type": "markdown",
      "metadata": {
        "id": "dzynfVJahHoY"
      },
      "source": [
        "Modelo para el espacio de soluciones<br>\n",
        "(*) ¿Cual es la estructura de datos que mejor se adapta al problema? Argumentalo.(Es posible que hayas elegido una al principio y veas la necesidad de cambiar, arguentalo)\n"
      ]
    },
    {
      "cell_type": "markdown",
      "metadata": {
        "id": "xFIJrOwKi2Ti"
      },
      "source": [
        "Respuesta"
      ]
    },
    {
      "cell_type": "markdown",
      "source": [
        "La estructura de datos que mejor se adapta al problema es la lista, ya que,  permite almacenar los 9 números disponibles y recorrerlos fácilmente para seleccionar los 5 números que vamos a utilizar en nuestra expresión al igual que los signos. La lista, proporciona una estructura de datos versátil y fácil de manejar para almacenar los números disponibles y los resultados de las expresiones, lo que la convierte en la mejor opción para abordar este problema.."
      ],
      "metadata": {
        "id": "mmbRbsb0wF5X"
      }
    },
    {
      "cell_type": "code",
      "metadata": {
        "id": "38c-7-ejhJmA"
      },
      "source": [],
      "execution_count": null,
      "outputs": []
    },
    {
      "cell_type": "markdown",
      "metadata": {
        "id": "7Z9U2W7bi-XS"
      },
      "source": [
        "Según el modelo para el espacio de soluciones<br>\n",
        "(*)¿Cual es la función objetivo?\n",
        "\n",
        "(*)¿Es un problema de maximización o minimización?"
      ]
    },
    {
      "cell_type": "markdown",
      "metadata": {
        "id": "hBalWLM7j1_d"
      },
      "source": [
        "Respuesta"
      ]
    },
    {
      "cell_type": "markdown",
      "source": [
        "**¿Cuál es la función objetivo? **\n",
        "\n",
        "El objetivo en este problema es encontrar la expresión matemática que utiliza 5 números sin repetir del 1 al 9 y los 4 signos básicos (+, -, *, /) para obtener un número dado.\n",
        "\n",
        "**¿Es un problema de maximización o minimización?**\n",
        "\n",
        "Este problema no se trata de maximización o minimización, sino de búsqueda de soluciones en la cual se debe encontrar una solución que cumpla con los requisitos dados. \n",
        "No se tiene una medida de éxito o fracaso específica en este problema, excepto si se encuentra o no una solución que cumpla con los requisitos, encontrando la expresión para obtener un numero dado. Ese éxito o fracaso se podría ver mediante el calculo de complejidad en el algoritmo implementado para realizar la búsqueda.\n"
      ],
      "metadata": {
        "id": "MW5VmuNTx-4q"
      }
    },
    {
      "cell_type": "code",
      "metadata": {
        "id": "pDA-rg3Gj5Lz"
      },
      "source": [],
      "execution_count": null,
      "outputs": []
    },
    {
      "cell_type": "markdown",
      "metadata": {
        "id": "rlnTYgY1j6I2"
      },
      "source": [
        "Diseña un algoritmo para resolver el problema por fuerza bruta"
      ]
    },
    {
      "cell_type": "markdown",
      "metadata": {
        "id": "70rDgxYXkC8r"
      },
      "source": [
        "Respuesta"
      ]
    },
    {
      "cell_type": "code",
      "metadata": {
        "id": "CJb5sQ0qkENy"
      },
      "source": [
        "# Utilizando itertools \n",
        "import time\n",
        "from itertools import permutations\n",
        "\n",
        "def fuerza_bruta(rango, valor_objetivo,num_sol):\n",
        "    \"\"\"Calcula y devuelve expresión matematica que da como \n",
        "       resultado el valor_objetivo si la encuentra\n",
        "       de la combinación realizada con 5 números de un determinando rango con las cuatro \n",
        "       operaciones básicas.\n",
        "       -Rango: lista números \n",
        "       -valor_objetivo: número deseado para buscar expresión que de como resultado ese valor.  \n",
        "       -numero soluciones: 1 solo la primera encontrada 0 todas las soluciones encontradas\n",
        "    \"\"\"\n",
        "    signos = ['+', '-', '*', '/']\n",
        "    resultado = []\n",
        "    for nums in permutations(rango, 5):\n",
        "        for sig in permutations(signos,4):\n",
        "            expression = f'{nums[0]} {sig[0]} {nums[1]} {sig[1]} {nums[2]} {sig[2]} {nums[3]} {sig[3]} {nums[4]}'\n",
        "            try:\n",
        "                if eval(expression) == valor_objetivo: # se utiliza eval para evaluar la expresión matematica\n",
        "                    if num_sol == 1:\n",
        "                      return expression\n",
        "                    else:\n",
        "                      resultado.append(expression)\n",
        "            except ZeroDivisionError:\n",
        "                pass\n",
        "    return resultado\n"
      ],
      "execution_count": 46,
      "outputs": []
    },
    {
      "cell_type": "code",
      "source": [
        "rango = [1, 2, 3, 4, 5, 6, 7, 8, 9]\n",
        "objetivo = 4\n",
        "num_solucion = 1\n",
        "start_time = time.time()\n",
        "expression = fuerza_bruta(rango, objetivo, num_solucion)\n",
        "print(expression)\n",
        "print('\\n\\n--- %s seconds ---' % (time.time() - start_time))\n",
        "\n"
      ],
      "metadata": {
        "colab": {
          "base_uri": "https://localhost:8080/"
        },
        "id": "pAzl8Ftt0O5K",
        "outputId": "463a8f5a-3e2e-4af3-bc37-e91644bdebed"
      },
      "execution_count": 47,
      "outputs": [
        {
          "output_type": "stream",
          "name": "stdout",
          "text": [
            "1 - 2 * 3 / 6 + 4\n",
            "\n",
            "\n",
            "--- 0.005764007568359375 seconds ---\n"
          ]
        }
      ]
    },
    {
      "cell_type": "markdown",
      "source": [
        "Código para resolver las preguntas de mínimo y máximo valor posible a encontrar solución por fuerza bruta con la función anterior"
      ],
      "metadata": {
        "id": "eXe99cBQAAgy"
      }
    },
    {
      "cell_type": "code",
      "source": [
        "# Utilizando itertools \n",
        "import time\n",
        "import numpy as np\n",
        "from itertools import permutations\n",
        "\n",
        "def cal_max_min(rango):\n",
        "    maximo = -np.inf\n",
        "    minimo = np.inf\n",
        "    expression_max = None\n",
        "    expression_min = None\n",
        "    total_expression = []\n",
        "    signos = ['+', '-', '*', '/']\n",
        "    resultado = []\n",
        "    cal = 0\n",
        "    for nums in permutations(rango, 5):\n",
        "        for sig in permutations(signos,4):\n",
        "            expression = f'{nums[0]} {sig[0]} {nums[1]} {sig[1]} {nums[2]} {sig[2]} {nums[3]} {sig[3]} {nums[4]}'\n",
        "            total_expression.append(expression)\n",
        "            try:\n",
        "                cal = int(eval(expression))\n",
        "                resultado.append(cal)\n",
        "                if cal > maximo:\n",
        "                  maximo = cal\n",
        "                  expression_max = expression\n",
        "                if cal < minimo:\n",
        "                  minimo = cal\n",
        "                  expression_min = expression\n",
        "            except ZeroDivisionError:\n",
        "                pass\n",
        "    print(\"El total de combinaciones posibles es: \", len(total_expression))\n",
        "    return resultado,minimo,maximo,expression_max,expression_min"
      ],
      "metadata": {
        "id": "oFMWzC_dAXMW"
      },
      "execution_count": 25,
      "outputs": []
    },
    {
      "cell_type": "code",
      "source": [
        "rango = [1, 2, 3, 4, 5, 6, 7, 8, 9]\n",
        "resultado,min,max,e_max,e_min = cal_max_min(rango)\n",
        "resultado = list(set(resultado))\n",
        "resultado.sort()\n",
        "print('Los resultados posibles, las expresiones son:')\n",
        "print(resultado) \n",
        "print(\" \")\n",
        "print('Máximo valor:', max, 'Expresión:', e_max)  \n",
        "print('Mínimo valor:', min, 'Expresión:', e_min)  \n"
      ],
      "metadata": {
        "colab": {
          "base_uri": "https://localhost:8080/"
        },
        "id": "kvRB3RAGWcB7",
        "outputId": "e8976f42-c56a-49b6-a8e5-81840b3b7e67"
      },
      "execution_count": 26,
      "outputs": [
        {
          "output_type": "stream",
          "name": "stdout",
          "text": [
            "El total de combinaciones posibles es:  362880\n",
            "Los resultados posibles, las expresiones son:\n",
            "[-70, -69, -68, -67, -66, -65, -64, -63, -62, -61, -60, -59, -58, -57, -56, -55, -54, -53, -52, -51, -50, -49, -48, -47, -46, -45, -44, -43, -42, -41, -40, -39, -38, -37, -36, -35, -34, -33, -32, -31, -30, -29, -28, -27, -26, -25, -24, -23, -22, -21, -20, -19, -18, -17, -16, -15, -14, -13, -12, -11, -10, -9, -8, -7, -6, -5, -4, -3, -2, -1, 0, 1, 2, 3, 4, 5, 6, 7, 8, 9, 10, 11, 12, 13, 14, 15, 16, 17, 18, 19, 20, 21, 22, 23, 24, 25, 26, 27, 28, 29, 30, 31, 32, 33, 34, 35, 36, 37, 38, 39, 40, 41, 42, 43, 44, 45, 46, 47, 48, 49, 50, 51, 52, 53, 54, 55, 56, 57, 58, 59, 60, 61, 62, 63, 64, 65, 66, 67, 68, 69, 70, 71, 72, 73, 74, 75, 76, 77, 78]\n",
            " \n",
            "Máximo valor: 78 Expresión: 7 - 1 / 2 + 8 * 9\n",
            "Mínimo valor: -70 Expresión: 1 + 2 / 3 - 8 * 9\n"
          ]
        }
      ]
    },
    {
      "cell_type": "markdown",
      "metadata": {
        "id": "tgrnsC2nkFa8"
      },
      "source": [
        "Calcula la complejidad del algoritmo por fuerza bruta"
      ]
    },
    {
      "cell_type": "markdown",
      "metadata": {
        "id": "9eUd3xwckP68"
      },
      "source": [
        "Respuesta"
      ]
    },
    {
      "cell_type": "markdown",
      "source": [
        "\n",
        "El algoritmo de fuerza bruta implementado en el código tiene una complejidad de tiempo exponencial, ya que está utilizando la función** permutations de itertools**, la cual genera todas las posibles permutaciones de longitud 5 de la lista de números de entrada. Esto implica que el número de operaciones a realizar es de:\n",
        "\n",
        "                  n*(n-1)*(n-2)*(n-3)*(n-4) \n",
        "\n",
        "para una lista de entrada de longitud n. \n",
        "\n",
        "Además, para cada una de estas permutaciones, se generan todas las posibles combinaciones de los cuatro operadores básicos (+, -, *, /) utilizando nuevamente la función permutations de itertools, lo que implica realizar n^4 operaciones adicionales para cada permutación. \n",
        "\n",
        "En general, la complejidad de este algoritmo es del orden de:\n",
        "\n",
        "                     O(n! * n^4)\n",
        "\n",
        "lo que lo hace muy costoso en términos de tiempo de ejecución para listas de entrada grandes."
      ],
      "metadata": {
        "id": "-b8GOUZSGuIE"
      }
    },
    {
      "cell_type": "markdown",
      "metadata": {
        "id": "txbrmLmskReM"
      },
      "source": [
        "(*)Diseña un algoritmo que mejore la complejidad del algortimo por fuerza bruta. Argumenta porque crees que mejora el algoritmo por fuerza bruta"
      ]
    },
    {
      "cell_type": "markdown",
      "metadata": {
        "id": "hLrVwt5QkZPD"
      },
      "source": [
        "Respuesta"
      ]
    },
    {
      "cell_type": "markdown",
      "source": [
        "**Algoritmo usando Busqueda Local**"
      ],
      "metadata": {
        "id": "5er5FZFiGTg5"
      }
    },
    {
      "cell_type": "code",
      "source": [
        "import random\n",
        "\n",
        "def generar_solucion(rango):\n",
        "    \"\"\"Genera una solución aleatoria\"\"\"\n",
        "    numeros = random.sample(rango, 5)\n",
        "    operadores = random.sample(['+', '-', '*', '/'], 4)\n",
        "    solucion = f'{numeros[0]} {operadores[0]} {numeros[1]} {operadores[1]} {numeros[2]} {operadores[2]} {numeros[3]} {operadores[3]} {numeros[4]}'\n",
        "    return solucion\n",
        "\n",
        "def evaluar_solucion(solucion, valor_objetivo):\n",
        "    \"\"\"Evalúa una solución y devuelve su distancia al valor objetivo\"\"\"\n",
        "    try:\n",
        "        resultado = eval(solucion)\n",
        "        return abs(resultado - valor_objetivo)\n",
        "    except ZeroDivisionError:\n",
        "        return float('inf')\n",
        "\n",
        "def busqueda_local(rango, valor_objetivo):\n",
        "    \"\"\"Realiza una búsqueda local para encontrar una solución que dé como resultado el valor objetivo\"\"\"\n",
        "    mejor_solucion = generar_solucion(rango)\n",
        "    mejor_evaluacion = evaluar_solucion(mejor_solucion, valor_objetivo)\n",
        "    evaluaciones = 0\n",
        "\n",
        "    while True:\n",
        "        # Generar vecindario de la solución actual\n",
        "        vecindario = set()\n",
        "        numeros = [int(x) for x in mejor_solucion.split() if x.isdigit()]\n",
        "        mejor_solucion_s = [str(x) for x in mejor_solucion.split()]\n",
        "        # intercambio un dato numerico e intercambio dos operadores \n",
        "        for i in range(5):\n",
        "            for j in range(1, 10):\n",
        "                if j not in numeros:\n",
        "                    vecino = f'{numeros[0]} {mejor_solucion_s[1]} {numeros[1]} {mejor_solucion_s[3]} {numeros[2]} {mejor_solucion_s[5]} {numeros[3]} {mejor_solucion_s[7]} {j}'\n",
        "                    vecindario.add(vecino)\n",
        "                    vecino = f'{numeros[0]} {mejor_solucion_s[7]} {numeros[1]} {mejor_solucion_s[3]} {numeros[2]} {mejor_solucion_s[5]} {numeros[3]} {mejor_solucion_s[1]} {j}'\n",
        "                    vecindario.add(vecino)\n",
        "        \n",
        "        # Evaluar vecindario y actualizar mejor solución\n",
        "        evaluaciones += len(vecindario)\n",
        "        for vecino in vecindario:\n",
        "            evaluacion = evaluar_solucion(vecino, valor_objetivo)\n",
        "            if evaluacion <= mejor_evaluacion:\n",
        "                mejor_solucion = vecino\n",
        "                mejor_evaluacion = evaluacion\n",
        "        \n",
        "        # Detener la búsqueda si se ha alcanzado el valor objetivo o se han realizado demasiadas evaluaciones\n",
        "        if mejor_evaluacion == 0 or evaluaciones > 300000:\n",
        "            print(evaluaciones)\n",
        "            print(mejor_evaluacion)\n",
        "            return mejor_solucion\n",
        "\n",
        "rango = [1, 2, 3, 4, 5, 6, 7, 8, 9]\n",
        "valor_objetivo = 10\n",
        "print(busqueda_local(rango, valor_objetivo))\n"
      ],
      "metadata": {
        "colab": {
          "base_uri": "https://localhost:8080/"
        },
        "id": "YdulGOIq0mHD",
        "outputId": "c189e933-d96c-4eba-94b4-0236b33387cc"
      },
      "execution_count": 92,
      "outputs": [
        {
          "output_type": "stream",
          "name": "stdout",
          "text": [
            "3000008\n",
            "3.5\n",
            "6 / 4 - 9 + 7 * 2\n"
          ]
        }
      ]
    },
    {
      "cell_type": "code",
      "source": [
        "import itertools\n",
        "\n",
        "# Definir función para generar todas las posibles combinaciones de 5 números\n",
        "def generar_combinaciones_numeros(numeros):\n",
        "    return list(itertools.permutations(numeros, 5))\n",
        "\n",
        "# Definir función para generar todas las posibles combinaciones de 4 operaciones\n",
        "def generar_combinaciones_operaciones():\n",
        "    operaciones = ['+', '-', '*', '/']\n",
        "    return list(itertools.permutations(operaciones,4))\n",
        "\n",
        "# Definir función para aplicar cada combinación de operaciones a cada combinación de números\n",
        "def generar_expresiones(numeros, operaciones):\n",
        "    expresiones = []\n",
        "    for numeros_perm in numeros:\n",
        "        for operaciones_perm in operaciones:\n",
        "            expr = ''\n",
        "            for i in range(4):\n",
        "                expr += str(numeros_perm[i]) + operaciones_perm[i]\n",
        "            expr += str(numeros_perm[4])\n",
        "            expresiones.append(expr)\n",
        "    return expresiones\n",
        "\n",
        "\n",
        "# Definir función para evaluar cada expresión matemática\n",
        "def evaluar_expresiones(expresiones):\n",
        "    validas = []\n",
        "    for expr in expresiones:\n",
        "        try:\n",
        "            resultado = eval(expr)\n",
        "            if resultado.is_integer():\n",
        "                validas.append(expr)\n",
        "        except:\n",
        "            pass\n",
        "    return validas\n",
        "\n",
        "# Definir función para encontrar la solución óptima usando ramificación y poda\n",
        "def encontrar_solucion(numeros,target):\n",
        "    combinaciones_numeros = generar_combinaciones_numeros(numeros)\n",
        "    combinaciones_operaciones = generar_combinaciones_operaciones()\n",
        "    expresiones = generar_expresiones(combinaciones_numeros, combinaciones_operaciones)\n",
        "    expresiones_validas = evaluar_expresiones(expresiones)\n",
        "    \n",
        "    mejor_solucion = ''\n",
        "    mejor_resultado = 0\n",
        "    \n",
        "    # Recorrer el árbol de posibles soluciones\n",
        "    for expr in expresiones_validas:\n",
        "        \"\"\"Evalúa una solución y devuelve su distancia al valor objetivo\"\"\"\n",
        "        try:\n",
        "            resultado = eval(expr)\n",
        "            if resultado == target: \n",
        "              if resultado >= mejor_resultado:\n",
        "                mejor_solucion = expr\n",
        "                mejor_resultado = resultado\n",
        "        except ZeroDivisionError:\n",
        "          return float('inf')     \n",
        "            \n",
        "    return mejor_solucion, mejor_resultado\n",
        "\n",
        "numeros = [1, 2, 3, 4, 5, 6, 7, 8, 9]\n",
        "solucion, resultado = encontrar_solucion(numeros,4)\n",
        "print(\"Expresión\" ,solucion , \"Resultado\", resultado)"
      ],
      "metadata": {
        "colab": {
          "base_uri": "https://localhost:8080/"
        },
        "id": "m8xE81UoCPGU",
        "outputId": "98befbbb-d910-4301-c256-e6f54f6658c2"
      },
      "execution_count": 100,
      "outputs": [
        {
          "output_type": "stream",
          "name": "stdout",
          "text": [
            "Expresión 9-8*6/4+7 Resultado 4.0\n"
          ]
        }
      ]
    },
    {
      "cell_type": "markdown",
      "source": [
        "\n",
        "Se utilizan otras estrategias de búsqueda heurística como el **algoritmo de búsqueda local**. \n",
        "\n",
        "Este algoritmo de búsqueda local es una técnica heurística que comienza con una solución inicial y realiza movimientos para mejorar gradualmente la solución actual, explorando el vecindario de la solución actual. En este caso, el vecindario de una solución serían las soluciones que se obtienen al cambiar uno de los operadores o uno de los números utilizados (se realizaron los dos cambios)\n",
        "\n",
        "Pero no se obtiene el resultado esperado, igualmente, se dejan las implementaciones como evidencia del trabajo realizado con el objetivo de encontrar un algoritmo que mejore la complejidad y logre encontrar la expresion.\n"
      ],
      "metadata": {
        "id": "xopYgyk7w8ea"
      }
    },
    {
      "cell_type": "markdown",
      "metadata": {
        "id": "eGDB4K6uk1iN"
      },
      "source": [
        "(*)Calcula la complejidad del algoritmo "
      ]
    },
    {
      "cell_type": "markdown",
      "metadata": {
        "id": "NhpTh_BPk1ms"
      },
      "source": [
        "Respuesta"
      ]
    },
    {
      "cell_type": "code",
      "metadata": {
        "id": "nREzhkStlCq8"
      },
      "source": [],
      "execution_count": null,
      "outputs": []
    },
    {
      "cell_type": "markdown",
      "metadata": {
        "id": "3M6QjTsSkmYe"
      },
      "source": [
        "Según el problema (y tenga sentido), diseña un juego de datos de entrada aleatorios"
      ]
    },
    {
      "cell_type": "markdown",
      "metadata": {
        "id": "Jc3_OlyNkvjZ"
      },
      "source": [
        "Respuesta"
      ]
    },
    {
      "cell_type": "code",
      "metadata": {
        "id": "sJ-N2etjkyWc"
      },
      "source": [],
      "execution_count": null,
      "outputs": []
    },
    {
      "cell_type": "markdown",
      "metadata": {
        "id": "zy5ZROmjlGo1"
      },
      "source": [
        "Aplica el algoritmo al juego de datos generado"
      ]
    },
    {
      "cell_type": "markdown",
      "metadata": {
        "id": "_Cmj-PVylMsa"
      },
      "source": [
        "Respuesta"
      ]
    },
    {
      "cell_type": "code",
      "metadata": {
        "id": "Jkx8GeiYlUz1"
      },
      "source": [],
      "execution_count": null,
      "outputs": []
    },
    {
      "cell_type": "markdown",
      "metadata": {
        "id": "eTFWUJQrtGcv"
      },
      "source": [
        "Enumera las referencias que has utilizado(si ha sido necesario) para llevar a cabo el trabajo"
      ]
    },
    {
      "cell_type": "markdown",
      "metadata": {
        "id": "YKQ_mRBttWsP"
      },
      "source": [
        "Respuesta"
      ]
    },
    {
      "cell_type": "markdown",
      "metadata": {
        "id": "kAkDPUyRtYyH"
      },
      "source": [
        "Describe brevemente las lineas de como crees que es posible avanzar en el estudio del problema. Ten en cuenta incluso posibles variaciones del problema y/o variaciones al alza del tamaño"
      ]
    },
    {
      "cell_type": "markdown",
      "metadata": {
        "id": "IE0uZmo-tZu-"
      },
      "source": [
        "Respuesta"
      ]
    },
    {
      "cell_type": "code",
      "source": [
        "def divide_and_conquer(rango, operators, target, temp, results):\n",
        "    if not rango:\n",
        "        expression = \"\".join(temp)\n",
        "        if eval(expression) == target:\n",
        "            results.append(expression)\n",
        "            print(results)\n",
        "        return\n",
        "    for i, number in enumerate(rango):\n",
        "        for j, operator in enumerate(operators):\n",
        "            temp.append(str(number))\n",
        "            temp.append(operator)\n",
        "            new_rango = rango[:i] + rango[i+1:]\n",
        "            new_operators = operators[:j] + operators[j+1:]\n",
        "            divide_and_conquer(new_rango, new_operators, target, temp, results)\n",
        "            temp.pop()\n",
        "            temp.pop()\n",
        "\n",
        "\n",
        "def find_expressions(target):\n",
        "    rango = [1, 2, 3, 4, 5, 6, 7, 8, 9]\n",
        "    operators = [\"+\", \"-\", \"*\", \"/\"]\n",
        "    results = []\n",
        "    divide_and_conquer(rango, operators, target, [], results)\n",
        "    print(results)\n",
        "    return results\n",
        "\n",
        "print(find_expressions(5))\n"
      ],
      "metadata": {
        "colab": {
          "base_uri": "https://localhost:8080/"
        },
        "id": "NU_Y4mtllCIT",
        "outputId": "1b89228b-3cd3-4788-a7a9-518df7a0b155"
      },
      "execution_count": 22,
      "outputs": [
        {
          "output_type": "stream",
          "name": "stdout",
          "text": [
            "[]\n",
            "[]\n"
          ]
        }
      ]
    },
    {
      "cell_type": "code",
      "source": [],
      "metadata": {
        "id": "lO_MneepziBh"
      },
      "execution_count": null,
      "outputs": []
    },
    {
      "cell_type": "markdown",
      "source": [
        "Una forma de resolver este problema sería utilizar un algoritmo de fuerza bruta, que consiste en probar todas las posibles combinaciones de asignación de actores a sesiones hasta encontrar la combinación óptima.\n",
        "\n",
        "El siguiente código en Python implementa un algoritmo de fuerza bruta para resolver este problema:\n",
        "\n",
        "```\n",
        "import itertools\n",
        "import csv\n",
        "\n",
        "def costo_sesion(sesion, costos_actores):\n",
        "    costo = 0\n",
        "    for actor in sesion:\n",
        "        costo += costos_actores[actor]\n",
        "    return costo\n",
        "\n",
        "def planificar_sesiones(num_actores, num_tomas, costos_actores, participacion_actores):\n",
        "    mejor_plan = None\n",
        "    mejor_costo = float('inf')\n",
        "    for sesion in itertools.combinations(range(num_actores), num_tomas):\n",
        "        costo = costo_sesion([actor for i, actor in enumerate(sesion) if participacion_actores[i][sesion[i]] == 1], costos_actores)\n",
        "        if costo < mejor_costo:\n",
        "            mejor_plan = sesion\n",
        "            mejor_costo = costo\n",
        "    return mejor_plan\n",
        "\n",
        "if __name__ == '__main__':\n",
        "    costos_actores = []\n",
        "    participacion_actores = []\n",
        "    with open('actores.csv', 'r') as f:\n",
        "        reader = csv.reader(f)\n",
        "        for i, row in enumerate(reader):\n",
        "            if i == 0:\n",
        "                num_actores = int(row[0])\n",
        "                num_tomas = int(row[1])\n",
        "            else:\n",
        "                costos_actores.append(int(row[0]))\n",
        "                participacion_actores.append([int(x) for x in row[1:]])\n",
        "    mejor_plan = planificar_sesiones(num_actores, num_tomas, costos_actores, participacion_actores)\n",
        "    print(mejor_plan)\n",
        "```\n",
        "\n",
        "El archivo `actores.csv` contiene los datos de entrada, con el formato siguiente:\n",
        "\n",
        "```\n",
        "num_actores,num_tomas\n",
        "costo_actor1,participacion_actor1_toma1,participacion_actor1_toma2,...\n",
        "costo_actor2,participacion_actor2_toma1,participacion_actor2_toma2,...\n",
        "...\n",
        "```\n",
        "\n",
        "Por ejemplo, si el archivo `actores.csv` tiene el siguiente contenido:\n",
        "\n",
        "```\n",
        "3,2\n",
        "5,1,0\n",
        "8,1,1\n",
        "3,0,1\n",
        "```\n",
        "\n",
        "El programa imprimirá la combinación óptima de actores para las dos sesiones: `(2, 3)`, que es la combinación que resulta en el costo mínimo de `11`."
      ],
      "metadata": {
        "id": "wi96MyzKzjvF"
      }
    },
    {
      "cell_type": "markdown",
      "source": [
        "Una posible solución para este problema podría ser utilizar un algoritmo de búsqueda exhaustiva (también conocido como fuerza bruta) para encontrar la combinación óptima de tomas y actores que minimice el costo. A continuación se proporciona un ejemplo de código en Python que realiza esta tarea:\n",
        "\n",
        "```\n",
        "import csv\n",
        "\n",
        "def planificar_sesiones(num_actores, num_tomas, archivo_csv):\n",
        "    # Leer los datos del archivo CSV\n",
        "    actores = []\n",
        "    with open(archivo_csv, 'r') as file:\n",
        "        reader = csv.reader(file)\n",
        "        for fila in reader:\n",
        "            actores.append([int(x) for x in fila])\n",
        "    \n",
        "    # Inicializar la lista de tomas planificadas\n",
        "    tomas_planificadas = [0] * num_tomas\n",
        "    \n",
        "    # Inicializar el costo mínimo\n",
        "    costo_minimo = float('inf')\n",
        "    \n",
        "    # Comenzar la búsqueda exhaustiva\n",
        "    for i in range(2**num_actores):\n",
        "        tomas_asignadas = [0] * num_tomas\n",
        "        costo = 0\n",
        "        for j in range(num_actores):\n",
        "            if (i & (1 << j)):\n",
        "                costo += 1\n",
        "                for k in range(num_tomas):\n",
        "                    if actores[j][k] == 1:\n",
        "                        tomas_asignadas[k] += 1\n",
        "        tomas_validas = True\n",
        "        for j in range(num_tomas):\n",
        "            if tomas_asignadas[j] > 6:\n",
        "                tomas_validas = False\n",
        "                break\n",
        "        if tomas_validas and costo < costo_minimo:\n",
        "            tomas_planificadas = tomas_asignadas\n",
        "            costo_minimo = costo\n",
        "    \n",
        "    return tomas_planificadas, costo_minimo\n",
        "\n",
        "# Ejemplo de uso\n",
        "num_actores = 5\n",
        "num_tomas = 3\n",
        "archivo_csv = 'actores_tomass.csv'\n",
        "tomas_planificadas, costo_minimo = planificar_sesiones(num_actores, num_tomas, archivo_csv)\n",
        "print(tomas_planificadas)\n",
        "print(costo_minimo)\n",
        "```\n",
        "\n",
        "Este código lee los datos del archivo CSV y los almacena en una matriz `actores`. Luego, utiliza un bucle anidado para buscar exhaustivamente todas las posibles combinaciones de actores y tomas. Para cada combinación, se cuenta el número de actores asignados y se verifica si el número de tomas por actor no supera el límite de 6. Si la combinación es válida y el costo es menor que el costo mínimo actual, se actualiza la combinación planificada y el costo mínimo. Finalmente, se devuelven la combinaci"
      ],
      "metadata": {
        "id": "7f5AIE2B0YKz"
      }
    },
    {
      "cell_type": "code",
      "source": [],
      "metadata": {
        "id": "9XIw9-FZ1mMd"
      },
      "execution_count": null,
      "outputs": []
    },
    {
      "cell_type": "markdown",
      "source": [
        "Para resolver este problema de optimización se puede utilizar un algoritmo de programación dinámica. El objetivo es minimizar el costo total del doblaje, asignando los actores adecuados a las tomas y eligiendo la combinación óptima de tomas y actores que se puedan realizar en un día (máximo 6 tomas).\n",
        "\n",
        "El siguiente código en Python implementa una solución a este problema:\n",
        "\n",
        "```\n",
        "def doblaje_minimo(tomas, actores, costos):\n",
        "    n = len(tomas)\n",
        "    m = len(actores)\n",
        "    dp = [[float('inf')] * (m + 1) for _ in range(n + 1)]\n",
        "    dp[0][0] = 0\n",
        "    for i in range(1, n + 1):\n",
        "        for j in range(1, min(i, m) + 1):\n",
        "            for k in range(max(0, i - 6), j):\n",
        "                dp[i][j] = min(dp[i][j], dp[k][j - 1] + costos[k][i - 1])\n",
        "    return dp[n][m]\n",
        "\n",
        "# Ejemplo de uso\n",
        "tom = [1, 2, 3, 4, 5, 6, 7, 8, 9, 10]\n",
        "act = [1, 2, 3, 4]\n",
        "cos = [[10, 20, 30, 40], [20, 30, 40, 50], [30, 40, 50, 60], [40, 50, 60, 70], [50, 60, 70, 80], [60, 70, 80, 90], [70, 80, 90, 100], [80, 90, 100, 110], [90, 100, 110, 120], [100, 110, 120, 130]]\n",
        "print(doblaje_minimo(tom, act, cos))\n",
        "```\n",
        "\n",
        "La función `doblaje_minimo` toma tres argumentos como entrada:\n",
        "\n",
        "- `tom`: una lista que representa las tomas a doblar.\n",
        "- `act`: una lista que representa los actores disponibles.\n",
        "- `cos`: una matriz de costos que representa el costo de asignar un actor a una toma.\n",
        "\n",
        "La función devuelve el costo mínimo de doblar todas las tomas utilizando la combinación óptima de actores y tomas.\n",
        "\n",
        "Este algoritmo utiliza una tabla `dp` para almacenar los costos mínimos en cada etapa. La tabla `dp` se inicializa con valores infinitos en todas sus entradas, excepto en `dp[0][0]`, que se inicializa con cero. Luego, se realiza una doble iteración sobre las tomas y los actores, y se utiliza una tercera iteración para calcular el costo mínimo para cada combinación de tomas y actores. Finalmente, se devuelve `dp[n][m]`, que representa el costo m"
      ],
      "metadata": {
        "id": "RbM85xQS1mcH"
      }
    },
    {
      "cell_type": "markdown",
      "source": [
        "Esta es una pregunta que involucra programación y optimización matemática, y puede ser resuelta mediante un algoritmo de programación lineal.\n",
        "\n",
        "El objetivo es minimizar el costo de doblaje de una película, restringido por el número máximo de tomas que pueden ser dobladas por día y el número limitado de actores disponibles.\n",
        "\n",
        "Para abordar este problema, primero debemos formular un modelo matemático que represente el problema.\n",
        "\n",
        "Podemos utilizar una variable x_ij para representar la cantidad de tomas del actor i para una escena j, y utilizar la función objetivo para minimizar el costo total de doblaje:\n",
        "\n",
        "minimize ∑_i∑_j c_ij * x_ij\n",
        "\n",
        "donde c_ij es el costo de doblaje para el actor i en la escena j.\n",
        "\n",
        "A continuación, debemos agregar restricciones que reflejen las limitaciones del problema. En este caso, la restricción más importante es la de que cada día solo se pueden doblar hasta 6 tomas:\n",
        "\n",
        "∑_j x_ij <= 6, para todo i\n",
        "\n",
        "Además, podemos agregar otras restricciones adicionales, como la cantidad máxima de tomas que puede hacer cada actor o la cantidad mínima de tomas que deben hacerse para cada escena.\n",
        "\n",
        "Una vez formulado el modelo, podemos utilizar un solver de programación lineal para encontrar la solución óptima. Por ejemplo, podemos utilizar el solver de CVXOPT en Python.\n",
        "\n",
        "Este es solo un enfoque básico, y hay muchos otros algoritmos y técnicas que se pueden utilizar para resolver este tipo de problemas de optimización. La formulación final del modelo y la elección del solver dependerán de los detalles específicos de su problema y de sus requisitos específicos."
      ],
      "metadata": {
        "id": "505fPAeA21R7"
      }
    }
  ]
}