{
  "cells": [
    {
      "cell_type": "markdown",
      "metadata": {
        "id": "view-in-github",
        "colab_type": "text"
      },
      "source": [
        "<a href=\"https://colab.research.google.com/github/scanavi31/03MIAR---Algoritmos-de-Optimizacion/blob/main/Final_Seminario_Algoritmos.ipynb\" target=\"_parent\"><img src=\"https://colab.research.google.com/assets/colab-badge.svg\" alt=\"Open In Colab\"/></a>"
      ]
    },
    {
      "cell_type": "markdown",
      "metadata": {
        "id": "hVbXYX-RfPWh"
      },
      "source": [
        "# Algoritmos de optimización - Seminario<br>\n",
        "Nombre y Apellidos: Ivan Dario Callejas Sandoval  <br>\n",
        "Url: https://github.com/scanavi31/03MIAR---Algoritmos-de-Optimizacion<br>\n",
        "Problema:\n",
        "\n",
        ">3. Combinar numeros y operaciones\n",
        "\n",
        "Descripción del problema: \n",
        "\n",
        "El problema consiste en analizar el siguiente problema y diseñar un algoritmo que lo resuelva:\n",
        "\n",
        "*   Disponemos de las 9 numeros del 1 al 9 (excluimos el cero) y de los 4 signos básicos de las operaciones fundamentales: suma (+), resta (-), multiplicación (*) y división (/) \n",
        "*   Debemos combinarlos alternativamente sin repetir ninguno de ellos para obtener una cantidad dada. Un ejemplo sería para obtener el 4: 4+2-6/3*1 = 4\n",
        "Debe analizarse el problema para encontrar todos los valores enteros posibles planteando las siguientes cuestiones: \n",
        "    - ¿Qué valor máximo y mínimo se pueden obtener según las condiciones del problema? \n",
        "    - ¿Es posible encontrar todos los valores enteros posibles entre dicho mínimo y máximo? \n",
        "- Nota: Es posible usar la función de python “eval” para evaluar una expresión\n",
        "....\n",
        "\n",
        "(*) La respuesta es obligatoria\n",
        "\n",
        "\n",
        "**¿Qué valor máximo y mínimo se pueden obtener según las condiciones del problema?**\n",
        "\n",
        "Mínimo: el valor mínimo posible que se puede obtener es -70\n",
        "\n",
        "Máximo: el valor máximo posible es 78\n",
        "\n",
        "Se evidencia más adelante del cuaderno en la cual se implementa la función para calcular dichos valores.\n",
        "\n",
        "\n",
        "**¿Es posible encontrar todos los valores enteros posibles entre dicho mínimo y máximo?**\n",
        "\n",
        "Si es posible encontrar los valores enteros posibles mediante técnicas. Resaltando que por fuerza bruta el costo computacional es muy alto. \n",
        "\n",
        "                                        "
      ]
    },
    {
      "cell_type": "markdown",
      "metadata": {
        "id": "3_-exlrTgLd-"
      },
      "source": [
        "(*)¿Cuantas posibilidades hay sin tener en cuenta las restricciones?<br>\n",
        "\n",
        "\n",
        "\n",
        "¿Cuantas posibilidades hay teniendo en cuenta todas las restricciones.\n",
        "\n",
        "\n"
      ]
    },
    {
      "cell_type": "markdown",
      "metadata": {
        "id": "WfCUqJyKhPcw"
      },
      "source": [
        "Respuesta"
      ]
    },
    {
      "cell_type": "markdown",
      "metadata": {
        "id": "Gv0ZzY1hsaVz"
      },
      "source": [
        "**¿Cuántas posibilidades hay sin tener en cuenta las restricciones?**\n",
        "\n",
        "Sin tener en cuenta las restricciones del problema, se genera todas las posibles combinaciones de 5 números (entre 1 a 9) y 4 signos (+, -, /, *), teniendo así:\n",
        "  - Un total de 9 opciones para cada número hasta llegar a 5 números. Esto nos da un total de\n",
        "\n",
        "              9x9x9x9x9 = 59049 posibles combinaciones.\n",
        "\n",
        "  - Igualmente, para cada una de las combinaciones de 5 números calculadas anteriormente, hay 4 espacios en los que podemos insertar los signos, teniendo así lo siguiente\n",
        "\n",
        "              4^4 = 256 posibles combinaciones de signos. \n",
        "\n",
        "Finalmente, se tendría en total:\n",
        "\n",
        "              59049 * 256 = 15116544 Combinaciones.\n",
        "\n",
        "**¿Cuántas posibilidades hay teniendo en cuenta las restricciones?**\n",
        "\n",
        "Teniendo en cuenta las restricciones del problema, se genera todas las posibles combinaciones de 5 números (entre 1 a 9) y 4 signos (+, -, /,*), teniendo así:\n",
        "\n",
        "  - Un total de 9 opciones para el primer número, 8 opciones para el segundo número y así sucesivamente hasta llegar a 5 números. Esto nos da un total de \n",
        "\n",
        "              9x8x7x6x5 = 15120 posibles combinaciones sin repetir números.\n",
        "\n",
        "-\tIgualmente, para cada una de las combinaciones de 5 números calculadas anteriormente, hay 4 espacios en los que podemos insertar los signos, teniendo así lo siguiente\n",
        "\n",
        "              4x3x2x1 = 24 posibles combinaciones de signos. \n",
        "\n",
        "Finalmente, se tendría en total:\n",
        "\n",
        "              15120 * 24 = 362880 Combinaciones.\n"
      ]
    },
    {
      "cell_type": "markdown",
      "metadata": {
        "id": "dzynfVJahHoY"
      },
      "source": [
        "Modelo para el espacio de soluciones<br>\n",
        "(*) ¿Cual es la estructura de datos que mejor se adapta al problema? Argumentalo.(Es posible que hayas elegido una al principio y veas la necesidad de cambiar, arguentalo)\n"
      ]
    },
    {
      "cell_type": "markdown",
      "metadata": {
        "id": "xFIJrOwKi2Ti"
      },
      "source": [
        "Respuesta"
      ]
    },
    {
      "cell_type": "markdown",
      "metadata": {
        "id": "mmbRbsb0wF5X"
      },
      "source": [
        "La estructura de datos que mejor se adapta al problema es la lista, ya que,  permite almacenar los 9 números disponibles y recorrerlos fácilmente para seleccionar los 5 números que vamos a utilizar en nuestra expresión al igual que los signos. La lista, proporciona una estructura de datos versátil y fácil de manejar para almacenar los números disponibles y los resultados de las expresiones, lo que la convierte en la mejor opción para abordar este problema.."
      ]
    },
    {
      "cell_type": "markdown",
      "metadata": {
        "id": "7Z9U2W7bi-XS"
      },
      "source": [
        "Según el modelo para el espacio de soluciones<br>\n",
        "(*)¿Cual es la función objetivo?\n",
        "\n",
        "(*)¿Es un problema de maximización o minimización?"
      ]
    },
    {
      "cell_type": "markdown",
      "metadata": {
        "id": "hBalWLM7j1_d"
      },
      "source": [
        "Respuesta"
      ]
    },
    {
      "cell_type": "markdown",
      "metadata": {
        "id": "MW5VmuNTx-4q"
      },
      "source": [
        "**¿Cuál es la función objetivo? **\n",
        "\n",
        "El objetivo en este problema es encontrar la expresión matemática que utiliza 5 números sin repetir del 1 al 9 y los 4 signos básicos (+, -, *, /) para obtener un número dado.\n",
        "\n",
        "**¿Es un problema de maximización o minimización?**\n",
        "\n",
        "Este problema no se trata de maximización o minimización, sino de búsqueda de soluciones en la cual se debe encontrar una solución que cumpla con los requisitos dados. \n",
        "No se tiene una medida de éxito o fracaso específica en este problema, excepto si se encuentra o no una solución que cumpla con los requisitos, encontrando la expresión para obtener un numero dado. Ese éxito o fracaso se podría ver mediante el calculo de complejidad en el algoritmo implementado para realizar la búsqueda.\n"
      ]
    },
    {
      "cell_type": "markdown",
      "metadata": {
        "id": "rlnTYgY1j6I2"
      },
      "source": [
        "Diseña un algoritmo para resolver el problema por fuerza bruta"
      ]
    },
    {
      "cell_type": "markdown",
      "metadata": {
        "id": "70rDgxYXkC8r"
      },
      "source": [
        "Respuesta"
      ]
    },
    {
      "cell_type": "code",
      "execution_count": 147,
      "metadata": {
        "id": "CJb5sQ0qkENy"
      },
      "outputs": [],
      "source": [
        "# Utilizando itertools \n",
        "import time\n",
        "from itertools import permutations\n",
        "\n",
        "def fuerza_bruta(rango, valor_objetivo,num_sol):\n",
        "    \"\"\"Calcula y devuelve expresión matematica que da como \n",
        "       resultado el valor_objetivo si la encuentra\n",
        "       de la combinación realizada con 5 números de un determinando rango con las cuatro \n",
        "       operaciones básicas.\n",
        "       -Rango: lista números \n",
        "       -valor_objetivo: número deseado para buscar expresión que de como resultado ese valor.  \n",
        "       -numero soluciones: 1 solo la primera encontrada 0 todas las soluciones encontradas\n",
        "    \"\"\"\n",
        "    signos = ['+', '-', '*', '/']\n",
        "    resultado = []\n",
        "    for nums in permutations(rango, 5):\n",
        "        for sig in permutations(signos,4):\n",
        "            expression = f'{nums[0]} {sig[0]} {nums[1]} {sig[1]} {nums[2]} {sig[2]} {nums[3]} {sig[3]} {nums[4]}'\n",
        "            try:\n",
        "                if eval(expression) == valor_objetivo: # se utiliza eval para evaluar la expresión matematica\n",
        "                    if num_sol == 1:\n",
        "                      return expression\n",
        "                    else:\n",
        "                      resultado.append(expression)\n",
        "            except ZeroDivisionError:\n",
        "                pass\n",
        "    return resultado\n"
      ]
    },
    {
      "cell_type": "code",
      "execution_count": 148,
      "metadata": {
        "colab": {
          "base_uri": "https://localhost:8080/"
        },
        "id": "pAzl8Ftt0O5K",
        "outputId": "e7c657e1-411c-42e9-9f51-11d781da79b3"
      },
      "outputs": [
        {
          "output_type": "stream",
          "name": "stdout",
          "text": [
            "1 - 2 + 7 / 3 * 9\n",
            "\n",
            "\n",
            "--- 0.029430150985717773 seconds ---\n"
          ]
        }
      ],
      "source": [
        "rango = [1, 2, 3, 4, 5, 6, 7, 8, 9]\n",
        "objetivo = 20\n",
        "num_solucion = 1\n",
        "start_time = time.time()\n",
        "expression = fuerza_bruta(rango, objetivo, num_solucion)\n",
        "print(expression)\n",
        "print('\\n\\n--- %s seconds ---' % (time.time() - start_time))\n",
        "\n"
      ]
    },
    {
      "cell_type": "markdown",
      "metadata": {
        "id": "eXe99cBQAAgy"
      },
      "source": [
        "Código para resolver las preguntas de mínimo y máximo valor posible a encontrar solución por fuerza bruta con la función anterior"
      ]
    },
    {
      "cell_type": "code",
      "execution_count": 149,
      "metadata": {
        "id": "oFMWzC_dAXMW"
      },
      "outputs": [],
      "source": [
        "# Utilizando itertools \n",
        "import time\n",
        "import numpy as np\n",
        "from itertools import permutations\n",
        "\n",
        "def cal_max_min(rango):\n",
        "    maximo = -np.inf\n",
        "    minimo = np.inf\n",
        "    expression_max = None\n",
        "    expression_min = None\n",
        "    total_expression = []\n",
        "    signos = ['+', '-', '*', '/']\n",
        "    resultado = []\n",
        "    cal = 0\n",
        "    for nums in permutations(rango, 5):\n",
        "        for sig in permutations(signos,4):\n",
        "            expression = f'{nums[0]} {sig[0]} {nums[1]} {sig[1]} {nums[2]} {sig[2]} {nums[3]} {sig[3]} {nums[4]}'\n",
        "            total_expression.append(expression)\n",
        "            try:\n",
        "                cal = int(eval(expression))\n",
        "                resultado.append(cal)\n",
        "                if cal > maximo:\n",
        "                  maximo = cal\n",
        "                  expression_max = expression\n",
        "                if cal < minimo:\n",
        "                  minimo = cal\n",
        "                  expression_min = expression\n",
        "            except ZeroDivisionError:\n",
        "                pass\n",
        "    print(\"El total de combinaciones posibles es: \", len(total_expression))\n",
        "    return resultado,minimo,maximo,expression_max,expression_min"
      ]
    },
    {
      "cell_type": "code",
      "execution_count": 150,
      "metadata": {
        "colab": {
          "base_uri": "https://localhost:8080/"
        },
        "id": "kvRB3RAGWcB7",
        "outputId": "66f3efe7-0388-4fc5-943c-6ba935991937"
      },
      "outputs": [
        {
          "output_type": "stream",
          "name": "stdout",
          "text": [
            "El total de combinaciones posibles es:  362880\n",
            "Los resultados posibles, las expresiones son:\n",
            "[-70, -69, -68, -67, -66, -65, -64, -63, -62, -61, -60, -59, -58, -57, -56, -55, -54, -53, -52, -51, -50, -49, -48, -47, -46, -45, -44, -43, -42, -41, -40, -39, -38, -37, -36, -35, -34, -33, -32, -31, -30, -29, -28, -27, -26, -25, -24, -23, -22, -21, -20, -19, -18, -17, -16, -15, -14, -13, -12, -11, -10, -9, -8, -7, -6, -5, -4, -3, -2, -1, 0, 1, 2, 3, 4, 5, 6, 7, 8, 9, 10, 11, 12, 13, 14, 15, 16, 17, 18, 19, 20, 21, 22, 23, 24, 25, 26, 27, 28, 29, 30, 31, 32, 33, 34, 35, 36, 37, 38, 39, 40, 41, 42, 43, 44, 45, 46, 47, 48, 49, 50, 51, 52, 53, 54, 55, 56, 57, 58, 59, 60, 61, 62, 63, 64, 65, 66, 67, 68, 69, 70, 71, 72, 73, 74, 75, 76, 77, 78]\n",
            " \n",
            "Máximo valor: 78 Expresión: 7 - 1 / 2 + 8 * 9\n",
            "Mínimo valor: -70 Expresión: 1 + 2 / 3 - 8 * 9\n"
          ]
        }
      ],
      "source": [
        "rango = [1, 2, 3, 4, 5, 6, 7, 8, 9]\n",
        "resultado,minimo,maximo,e_max,e_min = cal_max_min(rango)\n",
        "resultado = list(set(resultado))\n",
        "resultado.sort()\n",
        "print('Los resultados posibles, las expresiones son:')\n",
        "print(resultado) \n",
        "print(\" \")\n",
        "print('Máximo valor:', maximo, 'Expresión:', e_max)  \n",
        "print('Mínimo valor:', minimo, 'Expresión:', e_min)  \n"
      ]
    },
    {
      "cell_type": "markdown",
      "metadata": {
        "id": "tgrnsC2nkFa8"
      },
      "source": [
        "Calcula la complejidad del algoritmo por fuerza bruta"
      ]
    },
    {
      "cell_type": "markdown",
      "metadata": {
        "id": "9eUd3xwckP68"
      },
      "source": [
        "Respuesta"
      ]
    },
    {
      "cell_type": "markdown",
      "metadata": {
        "id": "-b8GOUZSGuIE"
      },
      "source": [
        "\n",
        "El algoritmo de fuerza bruta implementado en el código tiene una complejidad de tiempo exponencial, ya que está utilizando la función** permutations de itertools**, la cual genera todas las posibles permutaciones de longitud 5 de la lista de números de entrada. Esto implica que el número de operaciones a realizar es de:\n",
        "\n",
        "                  n*(n-1)*(n-2)*(n-3)*(n-4) \n",
        "\n",
        "para una lista de entrada de longitud n. \n",
        "\n",
        "Además, para cada una de estas permutaciones, se generan todas las posibles combinaciones de los cuatro operadores básicos (+, -, *, /) utilizando nuevamente la función permutations de itertools, lo que implica realizar n^4 operaciones adicionales para cada permutación. \n",
        "\n",
        "En general, la complejidad de este algoritmo es del orden de:\n",
        "\n",
        "                     O(n! * n^4)\n",
        "\n",
        "lo que lo hace muy costoso en términos de tiempo de ejecución para listas de entrada grandes."
      ]
    },
    {
      "cell_type": "markdown",
      "metadata": {
        "id": "txbrmLmskReM"
      },
      "source": [
        "(*)Diseña un algoritmo que mejore la complejidad del algortimo por fuerza bruta. Argumenta porque crees que mejora el algoritmo por fuerza bruta"
      ]
    },
    {
      "cell_type": "markdown",
      "metadata": {
        "id": "hLrVwt5QkZPD"
      },
      "source": [
        "Respuesta"
      ]
    },
    {
      "cell_type": "markdown",
      "source": [
        "Se realizan varios algoritmos generando una comparación entre ellos en cuanto al costo computaciona y tiempo de ejecución. Buscando optimizar y mejorar el código implementado en la fuerza bruta. \n",
        "\n",
        "Se trata de implementar un algoritmo genetico para dar la solucion pero no se logra definir para el problema. Por ello, se plantean otras soluciones pero en cada caso se observa por tiempo de ejecución que no se logra una mejoría notable, esta va más en cuanto a optimización del código y uso de algorimtos de busqueda como local y busqueda binaria. Se da a conocer cada una."
      ],
      "metadata": {
        "id": "UH9dL4s5bGtV"
      }
    },
    {
      "cell_type": "code",
      "source": [
        "!pip install pygad\n"
      ],
      "metadata": {
        "colab": {
          "base_uri": "https://localhost:8080/"
        },
        "id": "GYK6Ur3pgmzz",
        "outputId": "2a6ffac1-0b3a-4202-ed67-ecb969a595c1"
      },
      "execution_count": 151,
      "outputs": [
        {
          "output_type": "stream",
          "name": "stdout",
          "text": [
            "Looking in indexes: https://pypi.org/simple, https://us-python.pkg.dev/colab-wheels/public/simple/\n",
            "Requirement already satisfied: pygad in /usr/local/lib/python3.9/dist-packages (2.19.2)\n",
            "Requirement already satisfied: matplotlib in /usr/local/lib/python3.9/dist-packages (from pygad) (3.7.1)\n",
            "Requirement already satisfied: cloudpickle in /usr/local/lib/python3.9/dist-packages (from pygad) (2.2.1)\n",
            "Requirement already satisfied: numpy in /usr/local/lib/python3.9/dist-packages (from pygad) (1.22.4)\n",
            "Requirement already satisfied: importlib-resources>=3.2.0 in /usr/local/lib/python3.9/dist-packages (from matplotlib->pygad) (5.12.0)\n",
            "Requirement already satisfied: packaging>=20.0 in /usr/local/lib/python3.9/dist-packages (from matplotlib->pygad) (23.0)\n",
            "Requirement already satisfied: cycler>=0.10 in /usr/local/lib/python3.9/dist-packages (from matplotlib->pygad) (0.11.0)\n",
            "Requirement already satisfied: pillow>=6.2.0 in /usr/local/lib/python3.9/dist-packages (from matplotlib->pygad) (8.4.0)\n",
            "Requirement already satisfied: python-dateutil>=2.7 in /usr/local/lib/python3.9/dist-packages (from matplotlib->pygad) (2.8.2)\n",
            "Requirement already satisfied: fonttools>=4.22.0 in /usr/local/lib/python3.9/dist-packages (from matplotlib->pygad) (4.39.2)\n",
            "Requirement already satisfied: pyparsing>=2.3.1 in /usr/local/lib/python3.9/dist-packages (from matplotlib->pygad) (3.0.9)\n",
            "Requirement already satisfied: contourpy>=1.0.1 in /usr/local/lib/python3.9/dist-packages (from matplotlib->pygad) (1.0.7)\n",
            "Requirement already satisfied: kiwisolver>=1.0.1 in /usr/local/lib/python3.9/dist-packages (from matplotlib->pygad) (1.4.4)\n",
            "Requirement already satisfied: zipp>=3.1.0 in /usr/local/lib/python3.9/dist-packages (from importlib-resources>=3.2.0->matplotlib->pygad) (3.15.0)\n",
            "Requirement already satisfied: six>=1.5 in /usr/local/lib/python3.9/dist-packages (from python-dateutil>=2.7->matplotlib->pygad) (1.16.0)\n"
          ]
        }
      ]
    },
    {
      "cell_type": "code",
      "source": [
        "import random\n",
        "import pygad\n",
        "import numpy\n",
        "\n",
        "# Definir el número objetivo\n",
        "target_number = 42\n",
        "\n",
        "# Definir la lista de números a utilizar\n",
        "numbers_list = [1, 2, 3, 4, 5, 6, 7, 8, 9]\n",
        "\n",
        "# Definir la lista de operadores a utilizar\n",
        "operators_list = ['+', '-', '*', '/']\n",
        "\n",
        "# Definir la función de aptitud\n",
        "def fitness_function(solution, solution_idx):\n",
        "    # Convertir la solución en una expresión matemática\n",
        "    expression = f\"{solution[0]} {solution[1]} {solution[2]} {solution[3]} {solution[4]}\"\n",
        "    # Evaluar la expresión\n",
        "    try:\n",
        "        result = eval(expression)\n",
        "    except:\n",
        "        # Si la expresión no es válida, devolver una aptitud alta\n",
        "        return 1000\n",
        "    # Calcular la diferencia entre el resultado y el número objetivo\n",
        "    diff = abs(result - target_number)\n",
        "    # Devolver el valor absoluto de la diferencia como aptitud\n",
        "    return diff\n",
        "\n",
        "# Definir la función para generar soluciones aleatorias\n",
        "def generate_solution():\n",
        "    solution = []\n",
        "    # Agregar 5 elementos a la solución (4 operadores y 1 número)\n",
        "    for i in range(5):\n",
        "        if i % 2 == 0:\n",
        "            # Agregar un número aleatorio de la lista de números\n",
        "            solution.append(random.choice(numbers_list))\n",
        "        else:\n",
        "            # Agregar un operador aleatorio de la lista de operadores\n",
        "            operator = random.choice(operators_list)\n",
        "            if operator == '/' and solution[-1] == 0:\n",
        "                operator = '+'  # Evitar división entre cero\n",
        "            solution.append(operator)\n",
        "    return solution\n",
        "\n",
        "# Define the initial population\n",
        "initial_population = []\n",
        "for i in range(50):\n",
        "    initial_population.append(generate_solution())\n",
        "\n",
        "# Crear una instancia de PyGAD\n",
        "ga_instance = pygad.GA(num_generations=100, \n",
        "                       sol_per_pop=50, \n",
        "                       num_parents_mating=25,\n",
        "                       num_genes=5, \n",
        "                       fitness_func=fitness_function,\n",
        "                       initial_population=initial_population)\n",
        "\n",
        "# Ejecutar el algoritmo genético\n",
        "ga_instance.run()\n",
        "\n",
        "# Obtener la mejor solución encontrada\n",
        "solution, solution_fitness, solution_idx = ga_instance.best_solution()\n",
        "\n",
        "# Imprimir la solución encontrada\n",
        "print(f\"Solución encontrada: {solution} = {solution_fitness}\")\n"
      ],
      "metadata": {
        "colab": {
          "base_uri": "https://localhost:8080/",
          "height": 409
        },
        "id": "gwZgiuuWsxIf",
        "outputId": "fc498229-a11e-4038-dc34-315f73ca5e7e"
      },
      "execution_count": 171,
      "outputs": [
        {
          "output_type": "error",
          "ename": "ValueError",
          "evalue": "ignored",
          "traceback": [
            "\u001b[0;31m---------------------------------------------------------------------------\u001b[0m",
            "\u001b[0;31mValueError\u001b[0m                                Traceback (most recent call last)",
            "\u001b[0;32m<ipython-input-171-110c91031bc4>\u001b[0m in \u001b[0;36m<module>\u001b[0;34m\u001b[0m\n\u001b[1;32m     49\u001b[0m \u001b[0;34m\u001b[0m\u001b[0m\n\u001b[1;32m     50\u001b[0m \u001b[0;31m# Crear una instancia de PyGAD\u001b[0m\u001b[0;34m\u001b[0m\u001b[0;34m\u001b[0m\u001b[0m\n\u001b[0;32m---> 51\u001b[0;31m ga_instance = pygad.GA(num_generations=100, \n\u001b[0m\u001b[1;32m     52\u001b[0m                        \u001b[0msol_per_pop\u001b[0m\u001b[0;34m=\u001b[0m\u001b[0;36m50\u001b[0m\u001b[0;34m,\u001b[0m\u001b[0;34m\u001b[0m\u001b[0;34m\u001b[0m\u001b[0m\n\u001b[1;32m     53\u001b[0m                        \u001b[0mnum_parents_mating\u001b[0m\u001b[0;34m=\u001b[0m\u001b[0;36m25\u001b[0m\u001b[0;34m,\u001b[0m\u001b[0;34m\u001b[0m\u001b[0;34m\u001b[0m\u001b[0m\n",
            "\u001b[0;32m/usr/local/lib/python3.9/dist-packages/pygad/pygad.py\u001b[0m in \u001b[0;36m__init__\u001b[0;34m(self, num_generations, num_parents_mating, fitness_func, fitness_batch_size, initial_population, sol_per_pop, num_genes, init_range_low, init_range_high, gene_type, parent_selection_type, keep_parents, keep_elitism, K_tournament, crossover_type, crossover_probability, mutation_type, mutation_probability, mutation_by_replacement, mutation_percent_genes, mutation_num_genes, random_mutation_min_val, random_mutation_max_val, gene_space, allow_duplicate_genes, on_start, on_fitness, on_parents, on_crossover, on_mutation, callback_generation, on_generation, on_stop, delay_after_gen, save_best_solutions, save_solutions, suppress_warnings, stop_criteria, parallel_processing, random_seed)\u001b[0m\n\u001b[1;32m    313\u001b[0m             \u001b[0;32mif\u001b[0m \u001b[0mself\u001b[0m\u001b[0;34m.\u001b[0m\u001b[0mgene_type_single\u001b[0m \u001b[0;34m==\u001b[0m \u001b[0;32mTrue\u001b[0m\u001b[0;34m:\u001b[0m\u001b[0;34m\u001b[0m\u001b[0;34m\u001b[0m\u001b[0m\n\u001b[1;32m    314\u001b[0m                 \u001b[0;32mif\u001b[0m \u001b[0mself\u001b[0m\u001b[0;34m.\u001b[0m\u001b[0mgene_type\u001b[0m\u001b[0;34m[\u001b[0m\u001b[0;36m1\u001b[0m\u001b[0;34m]\u001b[0m \u001b[0;34m==\u001b[0m \u001b[0;32mNone\u001b[0m\u001b[0;34m:\u001b[0m\u001b[0;34m\u001b[0m\u001b[0;34m\u001b[0m\u001b[0m\n\u001b[0;32m--> 315\u001b[0;31m                     \u001b[0mself\u001b[0m\u001b[0;34m.\u001b[0m\u001b[0minitial_population\u001b[0m \u001b[0;34m=\u001b[0m \u001b[0mnumpy\u001b[0m\u001b[0;34m.\u001b[0m\u001b[0marray\u001b[0m\u001b[0;34m(\u001b[0m\u001b[0minitial_population\u001b[0m\u001b[0;34m,\u001b[0m \u001b[0mdtype\u001b[0m\u001b[0;34m=\u001b[0m\u001b[0mself\u001b[0m\u001b[0;34m.\u001b[0m\u001b[0mgene_type\u001b[0m\u001b[0;34m[\u001b[0m\u001b[0;36m0\u001b[0m\u001b[0;34m]\u001b[0m\u001b[0;34m)\u001b[0m\u001b[0;34m\u001b[0m\u001b[0;34m\u001b[0m\u001b[0m\n\u001b[0m\u001b[1;32m    316\u001b[0m                 \u001b[0;32melse\u001b[0m\u001b[0;34m:\u001b[0m\u001b[0;34m\u001b[0m\u001b[0;34m\u001b[0m\u001b[0m\n\u001b[1;32m    317\u001b[0m                     \u001b[0mself\u001b[0m\u001b[0;34m.\u001b[0m\u001b[0minitial_population\u001b[0m \u001b[0;34m=\u001b[0m \u001b[0mnumpy\u001b[0m\u001b[0;34m.\u001b[0m\u001b[0mround\u001b[0m\u001b[0;34m(\u001b[0m\u001b[0mnumpy\u001b[0m\u001b[0;34m.\u001b[0m\u001b[0marray\u001b[0m\u001b[0;34m(\u001b[0m\u001b[0minitial_population\u001b[0m\u001b[0;34m,\u001b[0m \u001b[0mdtype\u001b[0m\u001b[0;34m=\u001b[0m\u001b[0mself\u001b[0m\u001b[0;34m.\u001b[0m\u001b[0mgene_type\u001b[0m\u001b[0;34m[\u001b[0m\u001b[0;36m0\u001b[0m\u001b[0;34m]\u001b[0m\u001b[0;34m)\u001b[0m\u001b[0;34m,\u001b[0m \u001b[0mself\u001b[0m\u001b[0;34m.\u001b[0m\u001b[0mgene_type\u001b[0m\u001b[0;34m[\u001b[0m\u001b[0;36m1\u001b[0m\u001b[0;34m]\u001b[0m\u001b[0;34m)\u001b[0m\u001b[0;34m\u001b[0m\u001b[0;34m\u001b[0m\u001b[0m\n",
            "\u001b[0;31mValueError\u001b[0m: could not convert string to float: '-'"
          ]
        }
      ]
    },
    {
      "cell_type": "markdown",
      "metadata": {
        "id": "5er5FZFiGTg5"
      },
      "source": [
        "**Algoritmo usando Busqueda Local**"
      ]
    },
    {
      "cell_type": "markdown",
      "metadata": {
        "id": "xopYgyk7w8ea"
      },
      "source": [
        "\n",
        "Se utilizan otras estrategias de búsqueda heurística como el **algoritmo de búsqueda local**. \n",
        "\n",
        "Este algoritmo de búsqueda local es una técnica heurística que comienza con una solución inicial y realiza movimientos para mejorar gradualmente la solución actual, explorando el vecindario de la solución actual. En este caso, el vecindario de una solución serían las soluciones que se obtienen al cambiar uno de los operadores o uno de los números utilizados (se realizaron los dos cambios)\n",
        "\n",
        "Pero no se obtiene el resultado esperado, igualmente, se dejan las implementaciones como evidencia del trabajo realizado con el objetivo de encontrar un algoritmo que mejore la complejidad y logre encontrar la expresion.\n"
      ]
    },
    {
      "cell_type": "code",
      "execution_count": 152,
      "metadata": {
        "id": "YdulGOIq0mHD",
        "colab": {
          "base_uri": "https://localhost:8080/"
        },
        "outputId": "6d41eea7-f27a-4412-9e6b-589b3a44efd2"
      },
      "outputs": [
        {
          "output_type": "stream",
          "name": "stdout",
          "text": [
            "300008\n",
            "0.33333333333333215\n",
            "5 - 1 * 2 / 3 + 6\n",
            "\n",
            "\n",
            "--- 4.374573469161987 seconds ---\n"
          ]
        }
      ],
      "source": [
        "import random\n",
        "\n",
        "def generar_solucion(rango):\n",
        "    \"\"\"Genera una solución aleatoria\"\"\"\n",
        "    numeros = random.sample(rango, 5)\n",
        "    operadores = random.sample(['+', '-', '*', '/'], 4)\n",
        "    solucion = f'{numeros[0]} {operadores[0]} {numeros[1]} {operadores[1]} {numeros[2]} {operadores[2]} {numeros[3]} {operadores[3]} {numeros[4]}'\n",
        "    return solucion\n",
        "\n",
        "def evaluar_solucion(solucion, valor_objetivo):\n",
        "    \"\"\"Evalúa una solución y devuelve su distancia al valor objetivo\"\"\"\n",
        "    try:\n",
        "        resultado = eval(solucion)\n",
        "        return abs(resultado - valor_objetivo)\n",
        "    except ZeroDivisionError:\n",
        "        return float('inf')\n",
        "\n",
        "def busqueda_local(rango, valor_objetivo):\n",
        "    \"\"\"Realiza una búsqueda local para encontrar una solución que dé como resultado el valor objetivo\"\"\"\n",
        "    mejor_solucion = generar_solucion(rango)\n",
        "    mejor_evaluacion = evaluar_solucion(mejor_solucion, valor_objetivo)\n",
        "    evaluaciones = 0\n",
        "\n",
        "    while True:\n",
        "        # Generar vecindario de la solución actual\n",
        "        vecindario = set()\n",
        "        numeros = [int(x) for x in mejor_solucion.split() if x.isdigit()]\n",
        "        mejor_solucion_s = [str(x) for x in mejor_solucion.split()]\n",
        "        # intercambio un dato numerico e intercambio dos operadores \n",
        "        for i in range(5):\n",
        "            for j in range(1, 10):\n",
        "                if j not in numeros:\n",
        "                    vecino = f'{numeros[0]} {mejor_solucion_s[1]} {numeros[1]} {mejor_solucion_s[3]} {numeros[2]} {mejor_solucion_s[5]} {numeros[3]} {mejor_solucion_s[7]} {j}'\n",
        "                    vecindario.add(vecino)\n",
        "                    vecino = f'{numeros[0]} {mejor_solucion_s[7]} {numeros[1]} {mejor_solucion_s[3]} {numeros[2]} {mejor_solucion_s[5]} {numeros[3]} {mejor_solucion_s[1]} {j}'\n",
        "                    vecindario.add(vecino)\n",
        "        \n",
        "        # Evaluar vecindario y actualizar mejor solución\n",
        "        evaluaciones += len(vecindario)\n",
        "        for vecino in vecindario:\n",
        "            evaluacion = evaluar_solucion(vecino, valor_objetivo)\n",
        "            if evaluacion <= mejor_evaluacion:\n",
        "                mejor_solucion = vecino\n",
        "                mejor_evaluacion = evaluacion\n",
        "        \n",
        "        # Detener la búsqueda si se ha alcanzado el valor objetivo o se han realizado demasiadas evaluaciones\n",
        "        if mejor_evaluacion == 0 or evaluaciones > 300000:\n",
        "            print(evaluaciones)\n",
        "            print(mejor_evaluacion)\n",
        "            return mejor_solucion\n",
        "\n",
        "rango = [1, 2, 3, 4, 5, 6, 7, 8, 9]\n",
        "valor_objetivo = 10\n",
        "start_time = time.time()\n",
        "print(busqueda_local(rango, valor_objetivo))\n",
        "print('\\n\\n--- %s seconds ---' % (time.time() - start_time))\n"
      ]
    },
    {
      "cell_type": "markdown",
      "metadata": {
        "id": "FNzBU8xmJvfn"
      },
      "source": [
        "**Algoritmo Busqueda Binaria**"
      ]
    },
    {
      "cell_type": "markdown",
      "source": [
        "Se utilizan otras estrategias de búsqueda el algoritmo de búsqueda Binaria.\n",
        "\n",
        "Este algoritmo de búsqueda binaria permite realizar una busqueda de una lista ordenada tratando de mejorar al encontrar la solución al problema planteado. Pero al igual que en el anterior caso si no se logra encontrar la solución al menos como en la fuerza bruta y al tener que tener evaluadas todas las posibles combinacines vuelve a tener un alto coste. Siempre y cuando ya la tarea de encontrar todas las expresiones se realice y le pase como parametro a este algortimo se tiene una nueva manera o estrategia para encontrar la solución dividiendo la lista en dos izq y der y generando la busqueda desde un punto medio."
      ],
      "metadata": {
        "id": "a4KaQf-EbaMa"
      }
    },
    {
      "cell_type": "code",
      "execution_count": 153,
      "metadata": {
        "id": "m8xE81UoCPGU"
      },
      "outputs": [],
      "source": [
        "import itertools\n",
        "\n",
        "# Definir función para generar todas las posibles combinaciones de 5 números\n",
        "def generar_combinaciones_numeros(numeros):\n",
        "    return list(itertools.permutations(numeros, 5))\n",
        "\n",
        "# Definir función para generar todas las posibles combinaciones de 4 operaciones\n",
        "def generar_combinaciones_operaciones():\n",
        "    operaciones = ['+', '-', '*', '/']\n",
        "    return list(itertools.permutations(operaciones,4))\n",
        "\n",
        "# Definir función para aplicar cada combinación de operaciones a cada combinación de números\n",
        "def generar_expresiones(numeros, operaciones):\n",
        "    expresiones = []\n",
        "    for numeros_perm in numeros:\n",
        "        for operaciones_perm in operaciones:\n",
        "            expr = ''\n",
        "            for i in range(4):\n",
        "                expr += str(numeros_perm[i]) + operaciones_perm[i]\n",
        "            expr += str(numeros_perm[4])\n",
        "            expresiones.append(expr)\n",
        "    return expresiones\n",
        "\n",
        "\n",
        "# Definir función para evaluar cada expresión matemática\n",
        "def evaluar_expresiones(expresiones):\n",
        "    validas = []\n",
        "    resultados = []\n",
        "    for expr in expresiones:\n",
        "        try:\n",
        "            resultado = eval(expr)\n",
        "            if resultado.is_integer():\n",
        "                validas.append(expr)\n",
        "                resultados.append(resultado)\n",
        "        except:\n",
        "            pass\n",
        "    return validas,resultados"
      ]
    },
    {
      "cell_type": "code",
      "execution_count": 154,
      "metadata": {
        "id": "Vc4sSOMKFDFc"
      },
      "outputs": [],
      "source": [
        "# Definir función para encontrar la solución usando busqueda binaria\n",
        "def busqueda_binaria(expresiones,target):\n",
        "    # se quitan expresiones no valida (solo enteros)\n",
        "    expresiones_validas,resultados_validos = evaluar_expresiones(expresiones) \n",
        "    # Ordenar la lista combinada en base a la lista de números\n",
        "    #resultados_validos = list(set(resultados_validos))\n",
        "    #expresiones_validas = list(set(expresiones_validas))\n",
        "    #print(resultados_validos)\n",
        "    #print(expresiones_validas)\n",
        "    #posiciones = [(indice, numero) for indice, numero in enumerate(resultados_validos)]\n",
        "    #resultados_ordenados = sorted(resultados_validos)\n",
        "    # Combinar las dos listas en una lista de tuplas\n",
        "    #combinado = list(zip(resultados_validos, expresiones_validas))\n",
        "    #ordenado = sorted(combinado)\n",
        "    # Extraer la lista ordenada de expresiones\n",
        "    #expresiones_ordenadas = [exp for num, exp in ordenado]\n",
        "    izq = 0\n",
        "    der = len(resultados_validos)-1\n",
        "    \n",
        "    while izq <= der:\n",
        "      punto_medio = (izq + der) // 2\n",
        "      if resultados_validos[punto_medio] == target:\n",
        "        #posicion_en_lista_original = posiciones[punto_medio][0]\n",
        "        #print(posicion_en_lista_original)\n",
        "        #print(resultados_ordenados[punto_medio])\n",
        "        return resultados_validos[punto_medio],expresiones_validas[punto_medio]\n",
        "      if resultados_validos[punto_medio] > target:\n",
        "        der = punto_medio -1\n",
        "      if resultados_validos[punto_medio] < target:\n",
        "        izq = punto_medio + 1\n",
        "    return 0,0"
      ]
    },
    {
      "cell_type": "code",
      "execution_count": 155,
      "metadata": {
        "colab": {
          "base_uri": "https://localhost:8080/"
        },
        "id": "v17KJawCHNEy",
        "outputId": "623b0566-194c-42be-e124-a206cbe1d3be"
      },
      "outputs": [
        {
          "output_type": "stream",
          "name": "stdout",
          "text": [
            "\n",
            "\n",
            "\n",
            "--- 2.8908872604370117 seconds ---\n",
            "Expresión 2+6-1/3*9 Resultado 5.0\n",
            "5.0\n"
          ]
        }
      ],
      "source": [
        "numeros = [1, 2, 3, 4, 5, 6, 7, 8, 9]\n",
        "target = 5\n",
        "combinaciones_numeros = generar_combinaciones_numeros(numeros)\n",
        "combinaciones_operaciones = generar_combinaciones_operaciones()\n",
        "expresiones = generar_expresiones(combinaciones_numeros, combinaciones_operaciones)\n",
        "start_time = time.time()\n",
        "resultado,solucion = busqueda_binaria(expresiones,target)\n",
        "print()\n",
        "print('\\n\\n--- %s seconds ---' % (time.time() - start_time))\n",
        "print(\"Expresión\" ,solucion , \"Resultado\", resultado)\n",
        "print(eval(solucion))"
      ]
    },
    {
      "cell_type": "markdown",
      "metadata": {
        "id": "eGDB4K6uk1iN"
      },
      "source": [
        "(*)Calcula la complejidad del algoritmo "
      ]
    },
    {
      "cell_type": "markdown",
      "metadata": {
        "id": "NhpTh_BPk1ms"
      },
      "source": [
        "Respuesta"
      ]
    },
    {
      "cell_type": "markdown",
      "metadata": {
        "id": "yGsi4EmUdV9J"
      },
      "source": [
        "**Búsqueda Local**\n",
        "\n",
        "el costo computacional de este código depende del número de iteraciones necesarias para encontrar una solución que da como resultado el valor objetivo. Si la solución se encuentra rápidamente, el costo computacional será bajo, pero si se necesitan muchas iteraciones, el costo computacional puede ser alto. En términos asintóticos, el costo computacional de este código es O(k), donde k es el número máximo de iteraciones especificado en el código, aunque, este algoritmo solo es aproximado como puede encontrar la solución antes de completar el número de iteraciones puede llegar hasta el limite y dar un valor aproximado. Por ello, no logra mejorar así a la opción de fuerza bruta."
      ]
    },
    {
      "cell_type": "markdown",
      "metadata": {
        "id": "PCsgF2POeSrC"
      },
      "source": [
        "**Búsqueda Binaria**\n",
        "\n",
        "El algoritmo de búsqueda binaria tiene una complejidad de O(log n), donde n es el número de elementos en la lista. Esto significa que la función busca el objetivo en la lista en aproximadamente log n comparaciones, lo que es mucho más eficiente que la búsqueda lineal. Para el ejercicio se tendría mejoría siempre y cuando se parta de las listas ya creadas de las expresiones y la evaluación de cada una así se utilizaría el algortimo de busqueda binaria. \n",
        "\n",
        "Es eficiente con la restricción indicada al igual tiene su ventaja al aumenta la lista de combinaciones más numeros más operaciones."
      ]
    },
    {
      "cell_type": "markdown",
      "metadata": {
        "id": "3M6QjTsSkmYe"
      },
      "source": [
        "Según el problema (y tenga sentido), diseña un juego de datos de entrada aleatorios"
      ]
    },
    {
      "cell_type": "markdown",
      "metadata": {
        "id": "Jc3_OlyNkvjZ"
      },
      "source": [
        "Respuesta"
      ]
    },
    {
      "cell_type": "markdown",
      "metadata": {
        "id": "KONQv2LvjzY9"
      },
      "source": [
        "De acuerdo con el problema no se tendría sentido el juego de datos aleatorio ya que el mismo genera las combinaciones posibles de los números y operadores dado el rango y número objetivo. Las variaciones podrían ser aumentar el rango de números de los cuales puede realizar las combinaciones o incluir nuevos operadores pero cambiarían el enfoque del problema planteado inicialmente."
      ]
    },
    {
      "cell_type": "markdown",
      "metadata": {
        "id": "zy5ZROmjlGo1"
      },
      "source": [
        "Aplica el algoritmo al juego de datos generado"
      ]
    },
    {
      "cell_type": "markdown",
      "metadata": {
        "id": "_Cmj-PVylMsa"
      },
      "source": [
        "Respuesta"
      ]
    },
    {
      "cell_type": "markdown",
      "metadata": {
        "id": "NQsH83zZke9L"
      },
      "source": [
        "No Aplica para el problema."
      ]
    },
    {
      "cell_type": "markdown",
      "metadata": {
        "id": "eTFWUJQrtGcv"
      },
      "source": [
        "Enumera las referencias que has utilizado(si ha sido necesario) para llevar a cabo el trabajo"
      ]
    },
    {
      "cell_type": "markdown",
      "metadata": {
        "id": "YKQ_mRBttWsP"
      },
      "source": [
        "Respuesta"
      ]
    },
    {
      "cell_type": "markdown",
      "metadata": {
        "id": "YMHJvMlGkij-"
      },
      "source": [
        "[Problemas de Optimización en Python](https://relopezbriega.github.io/blog/2017/01/18/problemas-de-optimizacion-con-python/)\n",
        "\n",
        "[Algoritmos en python busqueda binaria](https://programacionpython80889555.wordpress.com/2021/12/22/algoritmos-en-python-busqueda-binaria/)\n",
        "\n"
      ]
    },
    {
      "cell_type": "markdown",
      "metadata": {
        "id": "kAkDPUyRtYyH"
      },
      "source": [
        "Describe brevemente las lineas de como crees que es posible avanzar en el estudio del problema. Ten en cuenta incluso posibles variaciones del problema y/o variaciones al alza del tamaño"
      ]
    },
    {
      "cell_type": "markdown",
      "metadata": {
        "id": "IE0uZmo-tZu-"
      },
      "source": [
        "Respuesta"
      ]
    },
    {
      "cell_type": "markdown",
      "metadata": {
        "id": "piNWeY9qmTx2"
      },
      "source": [
        "Mediante fuerza bruta a medida que el rango de los números a combinar sea mayor va siendo muy ineficiente otras técnicas y/o algoritmos de búsqueda permiten una solución más eficiente sin tanto costo computacional, teniendo presente por ejemplo separar y descartar las expresiones que no llevaría a una solución, ordenar las expresiones y generar una búsqueda más rápida al aumentar el número de las mismas por ejemplo con una búsqueda binaria. \n",
        " \n",
        "El problema podría tener variaciones, aumentar el tamaño del problema, se podría aumentar la cantidad de números y operadores disponibles. También se podría permitir la repetición de los números o de los operadores, lo que aumentaría la cantidad de combinaciones posibles. En este caso, se necesitaría utilizar algoritmos más sofisticados para optimizar la búsqueda y reducir el tiempo de ejecución.\n"
      ]
    }
  ],
  "metadata": {
    "colab": {
      "provenance": [],
      "include_colab_link": true
    },
    "kernelspec": {
      "display_name": "Python 3",
      "name": "python3"
    }
  },
  "nbformat": 4,
  "nbformat_minor": 0
}